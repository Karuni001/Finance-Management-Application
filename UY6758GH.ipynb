{
  "nbformat": 4,
  "nbformat_minor": 0,
  "metadata": {
    "colab": {
      "provenance": [],
      "authorship_tag": "ABX9TyOtq4TrCarhyql1cSs4vCwh",
      "include_colab_link": true
    },
    "kernelspec": {
      "name": "python3",
      "display_name": "Python 3"
    },
    "language_info": {
      "name": "python"
    }
  },
  "cells": [
    {
      "cell_type": "markdown",
      "metadata": {
        "id": "view-in-github",
        "colab_type": "text"
      },
      "source": [
        "<a href=\"https://colab.research.google.com/github/Karuni001/Finance-Management-Application/blob/main/UY6758GH.ipynb\" target=\"_parent\"><img src=\"https://colab.research.google.com/assets/colab-badge.svg\" alt=\"Open In Colab\"/></a>"
      ]
    },
    {
      "cell_type": "markdown",
      "source": [
        "**Submitted by : Karuna Gupta**\n",
        "\n",
        "**Intern ID: RF/A1/A2018**\n",
        "\n",
        "**Project Id: UY6758GH**  \n",
        "\n",
        "**Task: Develop a Personal Finance Management Application**"
      ],
      "metadata": {
        "id": "onDVLI-KqXcT"
      }
    },
    {
      "cell_type": "markdown",
      "source": [
        "1. User Registration and Authentication :\n",
        "  - Implement user registration with unique usernames and passwords.\n",
        "   - Add login functionality to authenticate users.\n",
        "\n"
      ],
      "metadata": {
        "id": "h9fsyjqTr4Xt"
      }
    },
    {
      "cell_type": "code",
      "execution_count": null,
      "metadata": {
        "colab": {
          "base_uri": "https://localhost:8080/"
        },
        "id": "8X1zrWvzpx5X",
        "outputId": "e78f2c1a-ca30-48f7-cfb1-556cbaf71aca"
      },
      "outputs": [
        {
          "output_type": "stream",
          "name": "stdout",
          "text": [
            "Drive already mounted at /content/drive; to attempt to forcibly remount, call drive.mount(\"/content/drive\", force_remount=True).\n"
          ]
        }
      ],
      "source": [
        "from google.colab import drive\n",
        "import sqlite3\n",
        "import hashlib\n",
        "\n",
        "# Step 1: Mount Google Drive\n",
        "drive.mount('/content/drive')\n",
        "\n",
        "# Database setup\n",
        "def create_users_table():\n",
        "    conn = sqlite3.connect('/content/drive/My Drive/finance.db')\n",
        "    cursor = conn.cursor()\n",
        "    cursor.execute('''CREATE TABLE IF NOT EXISTS users\n",
        "                      (user_id INTEGER PRIMARY KEY AUTOINCREMENT,\n",
        "                       username TEXT UNIQUE NOT NULL,\n",
        "                       password_hash TEXT NOT NULL,\n",
        "                       created_at TIMESTAMP DEFAULT CURRENT_TIMESTAMP)''')\n",
        "    conn.commit()\n",
        "    conn.close()\n",
        "\n",
        "\n",
        "\n",
        "# Example usage\n",
        "#if __name__ == \"__main__\":\n",
        "#    create_users_table()\n",
        "#\n",
        "#    while True:\n",
        "#        action = input(\"Choose an action (register, login, quit): \").strip().lower()\n",
        "#        if action == \"register\":\n",
        "#            register_user()\n",
        "#        elif action == \"login\":\n",
        "#            if login_user():\n",
        "#                print(\"Welcome to your personal finance manager!\")\n",
        "#\n",
        "#        elif action == \"quit\":\n",
        "#            break\n",
        "#        else:\n",
        "#            print(\"Invalid action. Please try again.\")\n"
      ]
    },
    {
      "cell_type": "code",
      "source": [
        "# Registration functionality\n",
        "def register_user():\n",
        "    username = input(\"Enter a username: \")\n",
        "    password = input(\"Enter a password: \")  # Using input() instead of getpass()\n",
        "    password_hash = hashlib.sha256(password.encode()).hexdigest()\n",
        "\n",
        "    conn = sqlite3.connect('finance.db')\n",
        "    cursor = conn.cursor()\n",
        "\n",
        "    try:\n",
        "        cursor.execute(\"INSERT INTO users (username, password_hash) VALUES (?, ?)\", (username, password_hash))\n",
        "        conn.commit()\n",
        "        print(\"User registered successfully!\")\n",
        "    except sqlite3.IntegrityError:\n",
        "        print(\"Username already exists!\")\n",
        "    finally:\n",
        "        conn.close()\n"
      ],
      "metadata": {
        "id": "hwsBSSF6wl-U"
      },
      "execution_count": null,
      "outputs": []
    },
    {
      "cell_type": "code",
      "source": [
        "# Login functionality\n",
        "def login_user():\n",
        "    username = input(\"Enter your username: \")\n",
        "    password = input(\"Enter your password: \")  # Using input() instead of getpass()\n",
        "    password_hash = hashlib.sha256(password.encode()).hexdigest()\n",
        "\n",
        "    conn = sqlite3.connect('finance.db')\n",
        "    cursor = conn.cursor()\n",
        "    cursor.execute(\"SELECT * FROM users WHERE username = ? AND password_hash = ?\", (username, password_hash))\n",
        "    user = cursor.fetchone()\n",
        "    conn.close()\n",
        "\n",
        "    if user:\n",
        "        print(\"Login successful!\")\n",
        "        return True\n",
        "    else:\n",
        "        print(\"Invalid username or password!\")\n",
        "        return False"
      ],
      "metadata": {
        "id": "JiXhnxbkwqaS"
      },
      "execution_count": null,
      "outputs": []
    },
    {
      "cell_type": "markdown",
      "source": [
        "2. Income and Expense Tracking :\n",
        "   - Allow users to add, update, and delete income and expense entries.\n",
        "   - Categorize transactions (e.g., Food, Rent, Salary, etc.).\n"
      ],
      "metadata": {
        "id": "lCIEafiwr8jR"
      }
    },
    {
      "cell_type": "code",
      "source": [
        "#Adding a Transaction:\n",
        "def add_transaction(user_id, amount, category, transaction_type):\n",
        "    conn = sqlite3.connect('finance.db')\n",
        "    cursor = conn.cursor()\n",
        "    cursor.execute('''INSERT INTO transactions (user_id, amount, category, transaction_type)\n",
        "                      VALUES (?, ?, ?, ?)''',\n",
        "                   (user_id, amount, category, transaction_type))\n",
        "    conn.commit()\n",
        "    conn.close()\n",
        "    print(f\"{transaction_type.capitalize()} of {amount} in category '{category}' added successfully!\")\n"
      ],
      "metadata": {
        "id": "VmUl6o-swv_h"
      },
      "execution_count": null,
      "outputs": []
    },
    {
      "cell_type": "code",
      "source": [
        "#Updating a Transaction:\n",
        "def update_transaction(transaction_id, amount=None, category=None):\n",
        "    conn = sqlite3.connect('finance.db')\n",
        "    cursor = conn.cursor()\n",
        "\n",
        "    if amount:\n",
        "        cursor.execute('''UPDATE transactions SET amount = ? WHERE transaction_id = ?''', (amount, transaction_id))\n",
        "    if category:\n",
        "        cursor.execute('''UPDATE transactions SET category = ? WHERE transaction_id = ?''', (category, transaction_id))\n",
        "\n",
        "    conn.commit()\n",
        "    conn.close()\n",
        "    print(f\"Transaction {transaction_id} updated successfully!\")\n"
      ],
      "metadata": {
        "id": "6yLgbdzvxBXa"
      },
      "execution_count": null,
      "outputs": []
    },
    {
      "cell_type": "code",
      "source": [
        "#Deleting a Transaction:\n",
        "def delete_transaction(transaction_id):\n",
        "    conn = sqlite3.connect('finance.db')\n",
        "    cursor = conn.cursor()\n",
        "    cursor.execute('''DELETE FROM transactions WHERE transaction_id = ?''', (transaction_id,))\n",
        "    conn.commit()\n",
        "    conn.close()\n",
        "    print(f\"Transaction {transaction_id} deleted successfully!\")\n"
      ],
      "metadata": {
        "id": "vBNvUcA3xFn3"
      },
      "execution_count": null,
      "outputs": []
    },
    {
      "cell_type": "code",
      "source": [
        "#def get_user_id(username):\n",
        "#    cursor = conn.cursor()\n",
        "#    cursor.execute('SELECT user_id FROM users WHERE username = ?', (username,))\n",
        "#    user_id = cursor.fetchone()\n",
        "#    return user_id[0] if user_id else None\n"
      ],
      "metadata": {
        "id": "1A8dOLQ83f8z"
      },
      "execution_count": null,
      "outputs": []
    },
    {
      "source": [
        "import sqlite3 # Import the sqlite3 module to work with SQLite databases\n",
        "\n",
        "# ... (rest of your code)\n",
        "\n",
        "def get_user_id(username):\n",
        "    conn = sqlite3.connect('finance.db') # Establish a connection to your database\n",
        "    cursor = conn.cursor()\n",
        "    cursor.execute('SELECT user_id FROM users WHERE username = ?', (username,))\n",
        "    user_id = cursor.fetchone()\n",
        "    conn.close() # Close the connection after use\n",
        "    return user_id[0] if user_id else None\n",
        "\n",
        "# ... (rest of your code)"
      ],
      "cell_type": "code",
      "metadata": {
        "id": "NFXRmIJD360d"
      },
      "execution_count": null,
      "outputs": []
    },
    {
      "cell_type": "markdown",
      "source": [
        "3. Financial Reports:\n",
        "   - Generate monthly and yearly financial reports.\n",
        "   - Calculate total income, expenses, and savings."
      ],
      "metadata": {
        "id": "L0JYkwupyYge"
      }
    },
    {
      "cell_type": "code",
      "source": [
        "#Calculate Monthly Financial Report:\n",
        "import datetime\n",
        "\n",
        "def get_monthly_report(user_id, year, month):\n",
        "    conn = sqlite3.connect('/content/drive/My Drive/finance.db')\n",
        "    cursor = conn.cursor()\n",
        "\n",
        "    start_date = f\"{year}-{month:02d}-01\"\n",
        "    end_date = f\"{year}-{month:02d}-{datetime.datetime(year, month, 1).replace(day=28).day + 2:02d}\"\n",
        "\n",
        "    cursor.execute('''SELECT SUM(amount) FROM transactions\n",
        "                      WHERE user_id = ? AND transaction_type = 'income'\n",
        "                      AND date BETWEEN ? AND ?''', (user_id, start_date, end_date))\n",
        "    total_income = cursor.fetchone()[0] or 0\n",
        "\n",
        "    cursor.execute('''SELECT SUM(amount) FROM transactions\n",
        "                      WHERE user_id = ? AND transaction_type = 'expense'\n",
        "                      AND date BETWEEN ? AND ?''', (user_id, start_date, end_date))\n",
        "    total_expense = cursor.fetchone()[0] or 0\n",
        "\n",
        "    conn.close()\n",
        "\n",
        "    savings = total_income - total_expense\n",
        "    return {\"month\": month, \"year\": year, \"income\": total_income, \"expenses\": total_expense, \"savings\": savings}\n"
      ],
      "metadata": {
        "id": "nCgtkSLExx4a"
      },
      "execution_count": null,
      "outputs": []
    },
    {
      "cell_type": "code",
      "source": [
        "#Calculate Yearly Financial Report:\n",
        "def get_yearly_report(user_id, year):\n",
        "    conn = sqlite3.connect('/content/drive/My Drive/finance.db')\n",
        "    cursor = conn.cursor()\n",
        "\n",
        "    start_date = f\"{year}-01-01\"\n",
        "    end_date = f\"{year}-12-31\"\n",
        "\n",
        "    cursor.execute('''SELECT SUM(amount) FROM transactions\n",
        "                      WHERE user_id = ? AND transaction_type = 'income'\n",
        "                      AND date BETWEEN ? AND ?''', (user_id, start_date, end_date))\n",
        "    total_income = cursor.fetchone()[0] or 0\n",
        "\n",
        "    cursor.execute('''SELECT SUM(amount) FROM transactions\n",
        "                      WHERE user_id = ? AND transaction_type = 'expense'\n",
        "                      AND date BETWEEN ? AND ?''', (user_id, start_date, end_date))\n",
        "    total_expense = cursor.fetchone()[0] or 0\n",
        "\n",
        "    conn.close()\n",
        "\n",
        "    savings = total_income - total_expense\n",
        "    return {\"year\": year, \"income\": total_income, \"expenses\": total_expense, \"savings\": savings}"
      ],
      "metadata": {
        "id": "kZl2SDrpxxsb"
      },
      "execution_count": null,
      "outputs": []
    },
    {
      "cell_type": "markdown",
      "source": [
        "4. Budgeting:\n",
        "   - Enable users to set monthly budgets for different categories.\n",
        "   - Notify users when they exceed their budget limits.\n"
      ],
      "metadata": {
        "id": "elcjcnEJyQYG"
      }
    },
    {
      "cell_type": "code",
      "source": [
        "#Create Budget Table:\n",
        "def create_budget_table():\n",
        "    conn = sqlite3.connect('/content/drive/My Drive/finance.db')\n",
        "    cursor = conn.cursor()\n",
        "    cursor.execute('''CREATE TABLE IF NOT EXISTS budgets\n",
        "                      (budget_id INTEGER PRIMARY KEY AUTOINCREMENT,\n",
        "                       user_id INTEGER,\n",
        "                       category TEXT NOT NULL,\n",
        "                       amount REAL NOT NULL,\n",
        "                       month INTEGER NOT NULL,\n",
        "                       year INTEGER NOT NULL,\n",
        "                       FOREIGN KEY (user_id) REFERENCES users(user_id))''')\n",
        "    conn.commit()\n",
        "    conn.close()\n"
      ],
      "metadata": {
        "id": "yW2d5KfExxfS"
      },
      "execution_count": null,
      "outputs": []
    },
    {
      "cell_type": "code",
      "source": [
        "#Set a Budget:\n",
        "def set_budget(user_id, category, amount, year, month):\n",
        "    conn = sqlite3.connect('/content/drive/My Drive/finance.db')\n",
        "    cursor = conn.cursor()\n",
        "\n",
        "    # Check if a budget already exists for this category, year, and month\n",
        "    cursor.execute('''SELECT * FROM budgets\n",
        "                      WHERE user_id = ? AND category = ? AND year = ? AND month = ?''',\n",
        "                   (user_id, category, year, month))\n",
        "    budget = cursor.fetchone()\n",
        "\n",
        "    if budget:\n",
        "        # Update the existing budget\n",
        "        cursor.execute('''UPDATE budgets\n",
        "                          SET amount = ?\n",
        "                          WHERE user_id = ? AND category = ? AND year = ? AND month = ?''',\n",
        "                       (amount, user_id, category, year, month))\n",
        "        print(f\"Budget updated for {category} in {month}/{year}.\")\n",
        "    else:\n",
        "        # Insert a new budget\n",
        "        cursor.execute('''INSERT INTO budgets (user_id, category, amount, year, month)\n",
        "                          VALUES (?, ?, ?, ?, ?)''',\n",
        "                       (user_id, category, amount, year, month))\n",
        "        print(f\"Budget set for {category} in {month}/{year}.\")\n",
        "\n",
        "    conn.commit()\n",
        "    conn.close()\n"
      ],
      "metadata": {
        "id": "3iqwydD_xxWx"
      },
      "execution_count": null,
      "outputs": []
    },
    {
      "cell_type": "code",
      "source": [
        "#Check Budget Status:\n",
        "def check_budget(user_id, year, month):\n",
        "    conn = sqlite3.connect('/content/drive/My Drive/finance.db')\n",
        "    cursor = conn.cursor()\n",
        "\n",
        "    cursor.execute('''SELECT category, amount FROM budgets\n",
        "                      WHERE user_id = ? AND year = ? AND month = ?''',\n",
        "                   (user_id, year, month))\n",
        "    budgets = cursor.fetchall()\n",
        "\n",
        "    for category, budget_amount in budgets:\n",
        "        cursor.execute('''SELECT SUM(amount) FROM transactions\n",
        "                          WHERE user_id = ? AND category = ? AND transaction_type = 'expense'\n",
        "                          AND strftime('%Y', date) = ? AND strftime('%m', date) = ?''',\n",
        "                       (user_id, category, str(year), f'{month:02d}'))\n",
        "        spent_amount = cursor.fetchone()[0] or 0\n",
        "\n",
        "        if spent_amount > budget_amount:\n",
        "            print(f\"Warning: You have exceeded your budget for {category}! \"\n",
        "                  f\"Budget: {budget_amount}, Spent: {spent_amount}\")\n",
        "        else:\n",
        "            print(f\"Budget status for {category} - Budget: {budget_amount}, Spent: {spent_amount}\")\n",
        "\n",
        "    conn.close()\n"
      ],
      "metadata": {
        "id": "M0RS5PH-xxOO"
      },
      "execution_count": null,
      "outputs": []
    },
    {
      "cell_type": "markdown",
      "source": [
        "5. Data Persistence :\n",
        "   - Store user data and transactions in a SQLite or any other database as per your preference.\n",
        "   - Implement functions to back up and restore data.\n"
      ],
      "metadata": {
        "id": "xCobBPLmzH1i"
      }
    },
    {
      "cell_type": "code",
      "source": [
        "#Backup Data:\n",
        "import shutil\n",
        "\n",
        "def backup_database():\n",
        "    try:\n",
        "        # Source database file\n",
        "        db_path = '/content/drive/My Drive/finance.db'\n",
        "\n",
        "        # Destination for backup\n",
        "        backup_path = '/content/drive/My Drive/finance_backup.db'\n",
        "\n",
        "        # Copy the database file to create a backup\n",
        "        shutil.copyfile(db_path, backup_path)\n",
        "\n",
        "        print(\"Database backup successful!\")\n",
        "    except Exception as e:\n",
        "        print(f\"Error during backup: {e}\")\n"
      ],
      "metadata": {
        "id": "eptEdG5fxxLX"
      },
      "execution_count": null,
      "outputs": []
    },
    {
      "cell_type": "code",
      "source": [
        "#Restore Data:\n",
        "def restore_database():\n",
        "    try:\n",
        "        # Backup file path\n",
        "        backup_path = '/content/drive/My Drive/finance_backup.db'\n",
        "\n",
        "        # Destination where the database will be restored\n",
        "        db_path = '/content/drive/My Drive/finance.db'\n",
        "\n",
        "        # Copy the backup file to the database location to restore it\n",
        "        shutil.copyfile(backup_path, db_path)\n",
        "\n",
        "        print(\"Database restoration successful!\")\n",
        "    except Exception as e:\n",
        "        print(f\"Error during restoration: {e}\")\n"
      ],
      "metadata": {
        "id": "HejhJhcyz8Ql"
      },
      "execution_count": null,
      "outputs": []
    },
    {
      "cell_type": "markdown",
      "source": [
        "6. Testing and Documentation :\n",
        "   - Write unit tests for key functionalities.\n",
        "   - Create a user manual with installation and usage instructions\n"
      ],
      "metadata": {
        "id": "DZUDscxA0I8F"
      }
    },
    {
      "cell_type": "code",
      "source": [
        "#Unit Testing\n",
        "import unittest\n",
        "import sqlite3\n",
        "import os\n",
        "\n",
        "class TestFinanceApp(unittest.TestCase):\n",
        "\n",
        "    def setUp(self):\n",
        "        # Create a temporary database for testing\n",
        "        self.db_path = 'test_finance.db'\n",
        "        self.conn = sqlite3.connect(self.db_path)\n",
        "        self.create_tables()\n",
        "\n",
        "    def tearDown(self):\n",
        "        # Close connection and remove test database after each test\n",
        "        self.conn.close()\n",
        "        os.remove(self.db_path)\n",
        "\n",
        "    def create_tables(self):\n",
        "        cursor = self.conn.cursor()\n",
        "        cursor.execute('''CREATE TABLE IF NOT EXISTS users\n",
        "                          (user_id INTEGER PRIMARY KEY AUTOINCREMENT,\n",
        "                           username TEXT UNIQUE NOT NULL,\n",
        "                           password TEXT NOT NULL)''')\n",
        "        cursor.execute('''CREATE TABLE IF NOT EXISTS transactions\n",
        "                          (transaction_id INTEGER PRIMARY KEY AUTOINCREMENT,\n",
        "                           user_id INTEGER,\n",
        "                           amount REAL NOT NULL,\n",
        "                           category TEXT NOT NULL,\n",
        "                           transaction_type TEXT NOT NULL,\n",
        "                           date TIMESTAMP DEFAULT CURRENT_TIMESTAMP,\n",
        "                           FOREIGN KEY (user_id) REFERENCES users(user_id))''')\n",
        "        cursor.execute('''CREATE TABLE IF NOT EXISTS budgets\n",
        "                          (budget_id INTEGER PRIMARY KEY AUTOINCREMENT,\n",
        "                           user_id INTEGER,\n",
        "                           category TEXT NOT NULL,\n",
        "                           amount REAL NOT NULL,\n",
        "                           month INTEGER NOT NULL,\n",
        "                           year INTEGER NOT NULL,\n",
        "                           FOREIGN KEY (user_id) REFERENCES users(user_id))''')\n",
        "        self.conn.commit()\n",
        "\n",
        "    def test_register_user(self):\n",
        "        # Test user registration\n",
        "        username = 'testuser'\n",
        "        password = 'testpass'\n",
        "        cursor = self.conn.cursor()\n",
        "        cursor.execute('INSERT INTO users (username, password) VALUES (?, ?)', (username, password))\n",
        "        self.conn.commit()\n",
        "\n",
        "        cursor.execute('SELECT * FROM users WHERE username = ?', (username,))\n",
        "        user = cursor.fetchone()\n",
        "\n",
        "        self.assertIsNotNone(user)\n",
        "        self.assertEqual(user[1], username)\n",
        "\n",
        "    def test_add_transaction(self):\n",
        "        # Test adding a transaction\n",
        "        username = 'testuser'\n",
        "        password = 'testpass'\n",
        "        cursor = self.conn.cursor()\n",
        "        cursor.execute('INSERT INTO users (username, password) VALUES (?, ?)', (username, password))\n",
        "        user_id = cursor.lastrowid\n",
        "\n",
        "        amount = 100.0\n",
        "        category = 'Food'\n",
        "        transaction_type = 'expense'\n",
        "        cursor.execute('''INSERT INTO transactions (user_id, amount, category, transaction_type)\n",
        "                          VALUES (?, ?, ?, ?)''', (user_id, amount, category, transaction_type))\n",
        "        self.conn.commit()\n",
        "\n",
        "        cursor.execute('SELECT * FROM transactions WHERE user_id = ? AND category = ?', (user_id, category))\n",
        "        transaction = cursor.fetchone()\n",
        "\n",
        "        self.assertIsNotNone(transaction)\n",
        "        self.assertEqual(transaction[2], amount)\n",
        "\n",
        "    def test_set_budget(self):\n",
        "        # Test setting a budget\n",
        "        username = 'testuser'\n",
        "        password = 'testpass'\n",
        "        cursor = self.conn.cursor()\n",
        "        cursor.execute('INSERT INTO users (username, password) VALUES (?, ?)', (username, password))\n",
        "        user_id = cursor.lastrowid\n",
        "\n",
        "        category = 'Food'\n",
        "        amount = 200.0\n",
        "        month = 8\n",
        "        year = 2024\n",
        "        cursor.execute('''INSERT INTO budgets (user_id, category, amount, month, year)\n",
        "                          VALUES (?, ?, ?, ?, ?)''', (user_id, category, amount, month, year))\n",
        "        self.conn.commit()\n",
        "\n",
        "        cursor.execute('SELECT * FROM budgets WHERE user_id = ? AND category = ?', (user_id, category))\n",
        "        budget = cursor.fetchone()\n",
        "\n",
        "        self.assertIsNotNone(budget)\n",
        "        self.assertEqual(budget[2], category)\n",
        "\n",
        "if __name__ == '__main__':\n",
        "    # Create a test suite\n",
        "    suite = unittest.TestLoader().loadTestsFromTestCase(TestFinanceApp)\n",
        "\n",
        "    # Run the tests and get a result object\n",
        "    result = unittest.TextTestRunner().run(suite)\n",
        "\n",
        "    # Check if all tests passed\n",
        "    if result.wasSuccessful():\n",
        "        print(\"All tests passed!\")\n",
        "    else:\n",
        "        print(\"Some tests failed.\")"
      ],
      "metadata": {
        "colab": {
          "base_uri": "https://localhost:8080/"
        },
        "id": "G9lQHkl10Ddl",
        "outputId": "dde9ce7b-abb6-43d2-cad8-51b8ced63ce8"
      },
      "execution_count": null,
      "outputs": [
        {
          "output_type": "stream",
          "name": "stderr",
          "text": [
            "...\n",
            "----------------------------------------------------------------------\n",
            "Ran 3 tests in 0.109s\n",
            "\n",
            "OK\n"
          ]
        },
        {
          "output_type": "stream",
          "name": "stdout",
          "text": [
            "All tests passed!\n"
          ]
        }
      ]
    },
    {
      "cell_type": "code",
      "source": [
        "def main():\n",
        "    create_users_table()\n",
        "    create_transactions_table()\n",
        "    create_budget_table()\n",
        "\n",
        "    while True:\n",
        "        action = input(\"Choose an action (register, login, backup, restore, quit): \").strip().lower()\n",
        "        if action == \"register\":\n",
        "            register_user()\n",
        "        elif action == \"login\":\n",
        "            if login_user():\n",
        "                username = input(\"Enter your username again: \")\n",
        "                user_id = get_user_id(username)\n",
        "                if not user_id:\n",
        "                    print(\"User not found. Please try again.\")\n",
        "                    continue\n",
        "\n",
        "                while True:\n",
        "                    trans_action = input(\"Choose an action (add, update, delete, report, budget, check_budget, quit): \").strip().lower()\n",
        "                    if trans_action == \"add\":\n",
        "                        amount = float(input(\"Enter amount: \"))\n",
        "                        category = input(\"Enter category (e.g., Food, Rent, Salary): \").strip().capitalize()\n",
        "                        transaction_type = input(\"Enter type (income or expense): \").strip().lower()\n",
        "                        add_transaction(user_id, amount, category, transaction_type)\n",
        "                    elif trans_action == \"update\":\n",
        "                        trans_id = int(input(\"Enter transaction ID to update: \"))\n",
        "                        amount = input(\"Enter new amount (leave blank to keep current): \")\n",
        "                        amount = float(amount) if amount else None\n",
        "                        category = input(\"Enter new category (leave blank to keep current): \").strip().capitalize()\n",
        "                        update_transaction(trans_id, amount, category)\n",
        "                    elif trans_action == \"delete\":\n",
        "                        trans_id = int(input(\"Enter transaction ID to delete: \"))\n",
        "                        delete_transaction(trans_id)\n",
        "                    elif trans_action == \"report\":\n",
        "                        report_type = input(\"Choose report type (monthly, yearly): \").strip().lower()\n",
        "                        if report_type == \"monthly\":\n",
        "                            year = int(input(\"Enter year (YYYY): \"))\n",
        "                            month = int(input(\"Enter month (MM): \"))\n",
        "                            report = get_monthly_report(user_id, year, month)\n",
        "                            print(f\"--- Monthly Report for {month}/{year} ---\")\n",
        "                            print(f\"Total Income: {report['income']}\")\n",
        "                            print(f\"Total Expenses: {report['expenses']}\")\n",
        "                            print(f\"Savings: {report['savings']}\")\n",
        "                        elif report_type == \"yearly\":\n",
        "                            year = int(input(\"Enter year (YYYY): \"))\n",
        "                            report = get_yearly_report(user_id, year)\n",
        "                            print(f\"--- Yearly Report for {year} ---\")\n",
        "                            print(f\"Total Income: {report['income']}\")\n",
        "                            print(f\"Total Expenses: {report['expenses']}\")\n",
        "                            print(f\"Savings: {report['savings']}\")\n",
        "                        else:\n",
        "                            print(\"Invalid report type. Please try again.\")\n",
        "                    elif trans_action == \"budget\":\n",
        "                        year = int(input(\"Enter year (YYYY): \"))\n",
        "                        month = int(input(\"Enter month (MM): \"))\n",
        "                        category = input(\"Enter category (e.g., Food, Rent): \").strip().capitalize()\n",
        "                        amount = float(input(\"Enter budget amount: \"))\n",
        "                        set_budget(user_id, category, amount, year, month)\n",
        "                    elif trans_action == \"check_budget\":\n",
        "                        year = int(input(\"Enter year (YYYY): \"))\n",
        "                        month = int(input(\"Enter month (MM): \"))\n",
        "                        check_budget(user_id, year, month)\n",
        "                    elif trans_action == \"quit\":\n",
        "                        break\n",
        "                    else:\n",
        "                        print(\"Invalid action. Please try again.\")\n",
        "        elif action == \"backup\":\n",
        "            backup_database()\n",
        "        elif action == \"restore\":\n",
        "            restore_database()\n",
        "        elif action == \"quit\":\n",
        "            break\n",
        "        else:\n",
        "            print(\"Invalid action. Please try again.\")\n",
        "\n",
        "if __name__ == \"__main__\":\n",
        "    main()\n"
      ],
      "metadata": {
        "colab": {
          "base_uri": "https://localhost:8080/"
        },
        "id": "SrycVSeZ2D5S",
        "outputId": "9adeb6a9-27c3-4c8c-c2a7-b25ed63c6a98"
      },
      "execution_count": null,
      "outputs": [
        {
          "name": "stdout",
          "output_type": "stream",
          "text": [
            "Choose an action (register, login, backup, restore, quit): login\n",
            "Enter your username: karuna\n",
            "Enter your password: karuna@01\n",
            "Login successful!\n",
            "Enter your username again: karuna\n",
            "Choose an action (add, update, delete, report, budget, check_budget, quit): add\n",
            "Enter amount: 50000\n",
            "Enter category (e.g., Food, Rent, Salary): salary\n",
            "Enter type (income or expense): income\n",
            "Income of 50000.0 in category 'Salary' added successfully!\n",
            "Choose an action (add, update, delete, report, budget, check_budget, quit): check_budet\n",
            "Invalid action. Please try again.\n",
            "Choose an action (add, update, delete, report, budget, check_budget, quit): budget\n",
            "Enter year (YYYY): 20244\n",
            "Enter month (MM): 08\n",
            "Enter category (e.g., Food, Rent): rent\n",
            "Enter budget amount: 30000\n",
            "Budget set for Rent in 8/20244.\n",
            "Choose an action (add, update, delete, report, budget, check_budget, quit): check_budget\n",
            "Enter year (YYYY): 20244\n",
            "Enter month (MM): 08\n",
            "Budget status for Rent - Budget: 30000.0, Spent: 0\n",
            "Choose an action (add, update, delete, report, budget, check_budget, quit): quit\n",
            "Choose an action (register, login, backup, restore, quit): quit]\n",
            "Invalid action. Please try again.\n",
            "Choose an action (register, login, backup, restore, quit): quit\n"
          ]
        }
      ]
    }
  ]
}